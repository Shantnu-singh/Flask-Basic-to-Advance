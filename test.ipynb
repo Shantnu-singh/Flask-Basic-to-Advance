{
 "cells": [
  {
   "cell_type": "markdown",
   "metadata": {},
   "source": [
    "<h1> Notes On Flask <h1>"
   ]
  },
  {
   "cell_type": "markdown",
   "metadata": {},
   "source": [
    "FLASK --> jinja ,  WSGI\n",
    "\n",
    "WSGI \n",
    "- web servser gateway interface , architecture to handle request and responces\n",
    "\n",
    "jinja \n",
    "- web template engine\n",
    "- allow dymanic web pages\n",
    "- support template ihertinace\n",
    "- reduce repetitness\n"
   ]
  },
  {
   "cell_type": "code",
   "execution_count": null,
   "metadata": {},
   "outputs": [],
   "source": []
  }
 ],
 "metadata": {
  "kernelspec": {
   "display_name": "Python 3",
   "language": "python",
   "name": "python3"
  },
  "language_info": {
   "codemirror_mode": {
    "name": "ipython",
    "version": 3
   },
   "file_extension": ".py",
   "mimetype": "text/x-python",
   "name": "python",
   "nbconvert_exporter": "python",
   "pygments_lexer": "ipython3",
   "version": "3.8.10"
  }
 },
 "nbformat": 4,
 "nbformat_minor": 2
}
